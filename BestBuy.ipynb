{
 "cells": [
  {
   "cell_type": "code",
   "execution_count": 1,
   "id": "5988751a-2081-483b-b980-eac861d7793c",
   "metadata": {},
   "outputs": [
    {
     "name": "stdout",
     "output_type": "stream",
     "text": [
      "\n",
      "Best Buy Search Results:\n",
      "\n",
      "Title: Lenovo - ThinkBook 14 2-in-1 G4 14\" Touch-Screen Laptop - Core Ultra 7 with 16GB Memory - 512GB SSD - Luna Gray\n",
      "Price: $1319.99\n",
      "Rating: Not Yet Reviewed ⭐\n",
      "URL: https://www.bestbuy.com/site/lenovo-thinkbook-14-2-in-1-g4-14-touch-screen-laptop-core-ultra-7-with-16gb-memory-512gb-ssd-luna-gray/6584658.p?skuId=6584658\n",
      "imagerl: https://pisces.bbystatic.com/image2/BestBuy_US/images/products/32fe0e0c-2c26-48ac-9715-b47a7cb39a6e.jpg;maxHeight=200;maxWidth=200;format=webp\n",
      "\n",
      "Title: Lenovo - ThinkPad X1 2-in-1 G9 14\" TouchScreen Laptop - Core Ultra 7 with 16GB Memory - 512GB SSD - Gray\n",
      "Price: $2319.99\n",
      "Rating: Rating 4 out of 5 stars with 1 reviewfalse ⭐\n",
      "URL: https://www.bestbuy.com/site/lenovo-thinkpad-x1-2-in-1-g9-14-touchscreen-laptop-core-ultra-7-with-16gb-memory-512gb-ssd-gray/6593187.p?skuId=6593187\n",
      "imagerl: https://pisces.bbystatic.com/image2/BestBuy_US/images/products/0aa09314-5920-4b72-9b52-b730b32fa142.jpg;maxHeight=200;maxWidth=200;format=webp\n",
      "\n",
      "Title: Lenovo - ThinkPad T14 Gen 5 14\" Touch-Screen Laptop - Ultra 5 with 16GB Memory - 512GB SSD - Gray\n",
      "Price: $1689.99\n",
      "Rating: Not Yet Reviewed ⭐\n",
      "URL: https://www.bestbuy.com/site/lenovo-thinkpad-t14-gen-5-14-touch-screen-laptop-ultra-5-with-16gb-memory-512gb-ssd-gray/6594379.p?skuId=6594379\n",
      "imagerl: https://pisces.bbystatic.com/image2/BestBuy_US/images/products/71a9bdc0-db44-4be9-90e4-2cb5c8c75c75.jpg;maxHeight=200;maxWidth=200;format=webp\n",
      "\n",
      "Title: Lenovo - ThinkPad T14 Gen 5 14\" Touch - Screen Laptop - Ultra 7 with 16GB Memory - 1TB SSD - Gray\n",
      "Price: $2299.99\n",
      "Rating: Not Yet Reviewed ⭐\n",
      "URL: https://www.bestbuy.com/site/lenovo-thinkpad-t14-gen-5-14-touch-screen-laptop-ultra-7-with-16gb-memory-1tb-ssd-gray/6594383.p?skuId=6594383\n",
      "imagerl: https://pisces.bbystatic.com/image2/BestBuy_US/images/products/8431270e-4b2b-4aad-b381-37d4e62f82f7.jpg;maxHeight=200;maxWidth=200;format=webp\n",
      "\n",
      "Title: Lenovo - ThinkPad T14s Gen 5 14\" Touch - Screen Laptop - Ultra 5 with 16GB Memory - 512GB SSD - Gray\n",
      "Price: $2119.99\n",
      "Rating: Not Yet Reviewed ⭐\n",
      "URL: https://www.bestbuy.com/site/lenovo-thinkpad-t14s-gen-5-14-touch-screen-laptop-ultra-5-with-16gb-memory-512gb-ssd-gray/6594389.p?skuId=6594389\n",
      "imagerl: https://pisces.bbystatic.com/image2/BestBuy_US/images/products/6be8fad3-8c84-44a2-aab1-1d0416f6999c.jpg;maxHeight=200;maxWidth=200;format=webp\n",
      "\n"
     ]
    }
   ],
   "source": [
    "################################ BestBuy ################################\n",
    "\n",
    "import requests\n",
    "import urllib.parse\n",
    "\n",
    "# Function to fetch Best Buy products based on keyword\n",
    "def fetch_bestbuy_products(keyword):\n",
    "    encoded_keyword = urllib.parse.quote(keyword)\n",
    "    url = f\"https://bestbuy-product-data-api.p.rapidapi.com/bestbuy/?page=1&keyword={encoded_keyword}\"\n",
    "\n",
    "    headers = {\n",
    "        \"x-rapidapi-key\": \"37cedf8febmshbd85ad68906c31ep1aca7ajsn11f438160bb4\",  \n",
    "        \"x-rapidapi-host\": \"bestbuy-product-data-api.p.rapidapi.com\"\n",
    "    }\n",
    "\n",
    "    try:\n",
    "        response = requests.get(url, headers=headers, timeout=10)\n",
    "        response.raise_for_status()  # Raise error for bad responses\n",
    "        products = response.json()\n",
    "\n",
    "        if not isinstance(products, list) or len(products) == 0:\n",
    "            print(\"No products found in the response.\")\n",
    "            return\n",
    "\n",
    "        print(\"\\nBest Buy Search Results:\\n\")\n",
    "        for product in products[:5]:  # Show only first 5 products\n",
    "            title = product.get(\"title\", \"Unknown Product\")\n",
    "            price = product.get(\"price\", \"N/A\")\n",
    "            rating = product.get(\"rating\", \"N/A\")\n",
    "            url = product.get(\"product_url\", \"URL Not Available\")\n",
    "            imageurl = product.get(\"image_url\", \"N/A\")\n",
    "            \n",
    "            if price != \"N/A\":\n",
    "                print(f\"Title: {title}\")\n",
    "                print(f\"Price: ${price}\")\n",
    "                print(f\"Rating: {rating} ⭐\")\n",
    "                print(f\"URL: {url}\")\n",
    "                print(f\"imagerl: {imageurl}\\n\")\n",
    "\n",
    "    except requests.exceptions.RequestException as e:\n",
    "        print(\"Error during API request:\", e)\n",
    "    except ValueError:\n",
    "        print(\"Error decoding JSON response\")\n",
    "\n",
    "# Example keyword phrase\n",
    "keyword_phrase = \"Gray Hewlett-Packard Laptop\"\n",
    "fetch_bestbuy_products(keyword_phrase)\n"
   ]
  },
  {
   "cell_type": "code",
   "execution_count": null,
   "id": "ac138696-af6f-45a9-9ec1-70a561f80e17",
   "metadata": {},
   "outputs": [],
   "source": []
  }
 ],
 "metadata": {
  "kernelspec": {
   "display_name": "Python 3 (ipykernel)",
   "language": "python",
   "name": "python3"
  },
  "language_info": {
   "codemirror_mode": {
    "name": "ipython",
    "version": 3
   },
   "file_extension": ".py",
   "mimetype": "text/x-python",
   "name": "python",
   "nbconvert_exporter": "python",
   "pygments_lexer": "ipython3",
   "version": "3.13.0"
  }
 },
 "nbformat": 4,
 "nbformat_minor": 5
}
