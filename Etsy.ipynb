{
 "cells": [
  {
   "cell_type": "code",
   "execution_count": null,
   "id": "3d5cec2b-a5a8-4431-9856-089a8e270e4c",
   "metadata": {},
   "outputs": [],
   "source": [
    "########################################## Etsy ##########################\n",
    "import requests\n",
    "import urllib.parse\n",
    "\n",
    "# Function to fetch Etsy products based on keyword\n",
    "def fetch_etsy_products(keyword):\n",
    "    encoded_keyword = urllib.parse.quote(keyword)\n",
    "    url = f\"https://etsy-api2.p.rapidapi.com/product/search?query={encoded_keyword}\"\n",
    "\n",
    "    headers = {\n",
    "        \"x-rapidapi-key\": \"37cedf8febmshbd85ad68906c31ep1aca7ajsn11f438160bb4\",  # Use your valid RapidAPI key\n",
    "        \"x-rapidapi-host\": \"etsy-api2.p.rapidapi.com\"\n",
    "    }\n",
    "\n",
    "    try:\n",
    "        response = requests.get(url, headers=headers, timeout=10)\n",
    "        response.raise_for_status()\n",
    "        data_dict = response.json()\n",
    "    except requests.exceptions.RequestException as e:\n",
    "        print(\"Error during API request:\", e)\n",
    "        return\n",
    "    except ValueError:\n",
    "        print(\"Error decoding JSON response\")\n",
    "        return\n",
    "\n",
    "    products = data_dict.get(\"response\", [])\n",
    "\n",
    "    if not isinstance(products, list) or len(products) == 0:\n",
    "        print(\"No products found.\")\n",
    "        return\n",
    "\n",
    "    print(\"\\nEtsy Search Results:\\n\")\n",
    "    for product in products[:5]:  # Limit to first 5 products\n",
    "        title = product.get(\"title\", \"Unknown Product\")\n",
    "        price_info = product.get(\"price\", {})\n",
    "        sale_price = price_info.get(\"salePrice\", \"N/A\")\n",
    "        discount = price_info.get(\"discount\", \"0%\")\n",
    "        shop_name = product.get(\"shopName\", \"Unknown Shop\")\n",
    "        url = product.get(\"productUrl\", \"URL Not Available\")\n",
    "        imageurl = product.get(\"imageUrl\", \"N/A\")\n",
    "        \n",
    "        print(f\"Title: {title}\")\n",
    "        print(f\"Price: ${sale_price} ({discount} Off)\")\n",
    "        print(f\"Shop: {shop_name}\")\n",
    "        print(f\"URL: {url}\")\n",
    "        print(f\"ImageUrl: {imageurl}\\n\")\n",
    "\n",
    "# Example keyword phrase\n",
    "keyword_phrase = \"Handmade Wooden Gift\"\n",
    "fetch_etsy_products(keyword_phrase)\n"
   ]
  }
 ],
 "metadata": {
  "kernelspec": {
   "display_name": "Python 3 (ipykernel)",
   "language": "python",
   "name": "python3"
  },
  "language_info": {
   "codemirror_mode": {
    "name": "ipython",
    "version": 3
   },
   "file_extension": ".py",
   "mimetype": "text/x-python",
   "name": "python",
   "nbconvert_exporter": "python",
   "pygments_lexer": "ipython3",
   "version": "3.13.0"
  }
 },
 "nbformat": 4,
 "nbformat_minor": 5
}
